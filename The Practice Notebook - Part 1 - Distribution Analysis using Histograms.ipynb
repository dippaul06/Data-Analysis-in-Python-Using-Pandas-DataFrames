{
 "cells": [
  {
   "cell_type": "markdown",
   "metadata": {},
   "source": [
    "# Welcome To The Practice Notebook \n",
    "---"
   ]
  },
  {
   "cell_type": "markdown",
   "metadata": {},
   "source": [
    "Importing the pandas library"
   ]
  },
  {
   "cell_type": "code",
   "execution_count": 1,
   "metadata": {},
   "outputs": [],
   "source": [
    "import pandas as pd "
   ]
  },
  {
   "cell_type": "markdown",
   "metadata": {},
   "source": [
    "Import the json Imdb Dataset"
   ]
  },
  {
   "cell_type": "code",
   "execution_count": 3,
   "metadata": {},
   "outputs": [
    {
     "data": {
      "text/html": [
       "<div>\n",
       "<style scoped>\n",
       "    .dataframe tbody tr th:only-of-type {\n",
       "        vertical-align: middle;\n",
       "    }\n",
       "\n",
       "    .dataframe tbody tr th {\n",
       "        vertical-align: top;\n",
       "    }\n",
       "\n",
       "    .dataframe thead th {\n",
       "        text-align: right;\n",
       "    }\n",
       "</style>\n",
       "<table border=\"1\" class=\"dataframe\">\n",
       "  <thead>\n",
       "    <tr style=\"text-align: right;\">\n",
       "      <th></th>\n",
       "      <th>color</th>\n",
       "      <th>director_name</th>\n",
       "      <th>num_critic_for_reviews</th>\n",
       "      <th>duration</th>\n",
       "      <th>gross</th>\n",
       "      <th>genres</th>\n",
       "      <th>star_name</th>\n",
       "      <th>movie_title</th>\n",
       "      <th>movie_imdb_link</th>\n",
       "      <th>language</th>\n",
       "      <th>country</th>\n",
       "      <th>budget</th>\n",
       "      <th>title_year</th>\n",
       "      <th>imdb_score</th>\n",
       "    </tr>\n",
       "  </thead>\n",
       "  <tbody>\n",
       "    <tr>\n",
       "      <th>0</th>\n",
       "      <td>Color</td>\n",
       "      <td>James Cameron</td>\n",
       "      <td>723.0</td>\n",
       "      <td>178.0</td>\n",
       "      <td>760505847.0</td>\n",
       "      <td>Action|Adventure|Fantasy|Sci-Fi</td>\n",
       "      <td>CCH Pounder</td>\n",
       "      <td>Avatar</td>\n",
       "      <td>http://www.imdb.com/title/tt0499549/?ref_=fn_t...</td>\n",
       "      <td>English</td>\n",
       "      <td>USA</td>\n",
       "      <td>237000000.0</td>\n",
       "      <td>2009.0</td>\n",
       "      <td>7.9</td>\n",
       "    </tr>\n",
       "    <tr>\n",
       "      <th>1</th>\n",
       "      <td>Color</td>\n",
       "      <td>Gore Verbinski</td>\n",
       "      <td>302.0</td>\n",
       "      <td>169.0</td>\n",
       "      <td>309404152.0</td>\n",
       "      <td>Action|Adventure|Fantasy</td>\n",
       "      <td>Johnny Depp</td>\n",
       "      <td>Pirates of the Caribbean: At World's End</td>\n",
       "      <td>http://www.imdb.com/title/tt0449088/?ref_=fn_t...</td>\n",
       "      <td>English</td>\n",
       "      <td>USA</td>\n",
       "      <td>300000000.0</td>\n",
       "      <td>2007.0</td>\n",
       "      <td>7.1</td>\n",
       "    </tr>\n",
       "    <tr>\n",
       "      <th>2</th>\n",
       "      <td>Color</td>\n",
       "      <td>Sam Mendes</td>\n",
       "      <td>602.0</td>\n",
       "      <td>148.0</td>\n",
       "      <td>200074175.0</td>\n",
       "      <td>Action|Adventure|Thriller</td>\n",
       "      <td>Christoph Waltz</td>\n",
       "      <td>Spectre</td>\n",
       "      <td>http://www.imdb.com/title/tt2379713/?ref_=fn_t...</td>\n",
       "      <td>English</td>\n",
       "      <td>UK</td>\n",
       "      <td>245000000.0</td>\n",
       "      <td>2015.0</td>\n",
       "      <td>6.8</td>\n",
       "    </tr>\n",
       "    <tr>\n",
       "      <th>3</th>\n",
       "      <td>Color</td>\n",
       "      <td>Christopher Nolan</td>\n",
       "      <td>813.0</td>\n",
       "      <td>164.0</td>\n",
       "      <td>448130642.0</td>\n",
       "      <td>Action|Thriller</td>\n",
       "      <td>Tom Hardy</td>\n",
       "      <td>The Dark Knight Rises</td>\n",
       "      <td>http://www.imdb.com/title/tt1345836/?ref_=fn_t...</td>\n",
       "      <td>English</td>\n",
       "      <td>USA</td>\n",
       "      <td>250000000.0</td>\n",
       "      <td>2012.0</td>\n",
       "      <td>8.5</td>\n",
       "    </tr>\n",
       "    <tr>\n",
       "      <th>4</th>\n",
       "      <td>NaN</td>\n",
       "      <td>Doug Walker</td>\n",
       "      <td>NaN</td>\n",
       "      <td>NaN</td>\n",
       "      <td>NaN</td>\n",
       "      <td>Documentary</td>\n",
       "      <td>Doug Walker</td>\n",
       "      <td>Star Wars: Episode VII - The Force Awakens</td>\n",
       "      <td>http://www.imdb.com/title/tt5289954/?ref_=fn_t...</td>\n",
       "      <td>NaN</td>\n",
       "      <td>NaN</td>\n",
       "      <td>NaN</td>\n",
       "      <td>NaN</td>\n",
       "      <td>7.1</td>\n",
       "    </tr>\n",
       "  </tbody>\n",
       "</table>\n",
       "</div>"
      ],
      "text/plain": [
       "   color      director_name  num_critic_for_reviews  duration        gross  \\\n",
       "0  Color      James Cameron                   723.0     178.0  760505847.0   \n",
       "1  Color     Gore Verbinski                   302.0     169.0  309404152.0   \n",
       "2  Color         Sam Mendes                   602.0     148.0  200074175.0   \n",
       "3  Color  Christopher Nolan                   813.0     164.0  448130642.0   \n",
       "4    NaN        Doug Walker                     NaN       NaN          NaN   \n",
       "\n",
       "                            genres        star_name  \\\n",
       "0  Action|Adventure|Fantasy|Sci-Fi      CCH Pounder   \n",
       "1         Action|Adventure|Fantasy      Johnny Depp   \n",
       "2        Action|Adventure|Thriller  Christoph Waltz   \n",
       "3                  Action|Thriller        Tom Hardy   \n",
       "4                      Documentary      Doug Walker   \n",
       "\n",
       "                                  movie_title  \\\n",
       "0                                      Avatar   \n",
       "1    Pirates of the Caribbean: At World's End   \n",
       "2                                     Spectre   \n",
       "3                       The Dark Knight Rises   \n",
       "4  Star Wars: Episode VII - The Force Awakens   \n",
       "\n",
       "                                     movie_imdb_link language country  \\\n",
       "0  http://www.imdb.com/title/tt0499549/?ref_=fn_t...  English     USA   \n",
       "1  http://www.imdb.com/title/tt0449088/?ref_=fn_t...  English     USA   \n",
       "2  http://www.imdb.com/title/tt2379713/?ref_=fn_t...  English      UK   \n",
       "3  http://www.imdb.com/title/tt1345836/?ref_=fn_t...  English     USA   \n",
       "4  http://www.imdb.com/title/tt5289954/?ref_=fn_t...      NaN     NaN   \n",
       "\n",
       "        budget  title_year  imdb_score  \n",
       "0  237000000.0      2009.0         7.9  \n",
       "1  300000000.0      2007.0         7.1  \n",
       "2  245000000.0      2015.0         6.8  \n",
       "3  250000000.0      2012.0         8.5  \n",
       "4          NaN         NaN         7.1  "
      ]
     },
     "execution_count": 3,
     "metadata": {},
     "output_type": "execute_result"
    }
   ],
   "source": [
    "# Your code goes here\n",
    "data = pd.read_json(\"movies_dataset.json\")\n",
    "data.head()"
   ]
  },
  {
   "cell_type": "markdown",
   "metadata": {},
   "source": [
    "Answer to the following Analytical questions: \n",
    "\n",
    "Question 1: Use Histograms to compare the disribution of movie `imdb_score` column related to movies produced in `France` and `Canada`. \n",
    "\n",
    "While creating the histgoram:\n",
    "- Set the number of bins to 20 \n",
    "- Set the xAxis Label \n",
    "- Set the yAxis Label\n",
    "- Remove the grid lines\n"
   ]
  },
  {
   "cell_type": "code",
   "execution_count": 9,
   "metadata": {},
   "outputs": [
    {
     "data": {
      "text/plain": [
       "Text(0, 0.5, 'Count')"
      ]
     },
     "execution_count": 9,
     "metadata": {},
     "output_type": "execute_result"
    },
    {
     "data": {
      "image/png": "[encoded data removed]",
      "text/plain": [
       "<Figure size 432x288 with 1 Axes>"
      ]
     },
     "metadata": {
      "needs_background": "light"
     },
     "output_type": "display_data"
    }
   ],
   "source": [
    "# Create the histogram for Canada here \n",
    "ax = data[data.country =='Canada'].imdb_score.hist(bins=20, grid = False)\n",
    "ax.set_xlabel(\"Score\")\n",
    "ax.set_ylabel(\"Count\")"
   ]
  },
  {
   "cell_type": "code",
   "execution_count": 11,
   "metadata": {},
   "outputs": [
    {
     "data": {
      "text/plain": [
       "Text(0, 0.5, 'Count')"
      ]
     },
     "execution_count": 11,
     "metadata": {},
     "output_type": "execute_result"
    },
    {
     "data": {
      "image/png": "[encoded data removed]",
      "text/plain": [
       "<Figure size 432x288 with 1 Axes>"
      ]
     },
     "metadata": {
      "needs_background": "light"
     },
     "output_type": "display_data"
    }
   ],
   "source": [
    "# Create the histogram for France here \n",
    "ay = data[data.country =='France'].imdb_score.hist(bins=20, grid = False)\n",
    "ay.set_xlabel(\"Score\")\n",
    "ay.set_ylabel(\"Count\")"
   ]
  },
  {
   "cell_type": "markdown",
   "metadata": {},
   "source": [
    "Question 2: Create a histogram to check the distribution of `imdb_score` spent to produce Black&White movies.\n",
    "\n",
    "While creating the histgoram:\n",
    "- Set the number of bins to 10 \n",
    "- Set the xAxis Label \n",
    "- Set the yAxis Label\n",
    "- Remove the grid lines\n"
   ]
  },
  {
   "cell_type": "code",
   "execution_count": 15,
   "metadata": {},
   "outputs": [
    {
     "data": {
      "text/plain": [
       "Text(0, 0.5, 'Count')"
      ]
     },
     "execution_count": 15,
     "metadata": {},
     "output_type": "execute_result"
    },
    {
     "data": {
      "image/png": "[encoded data removed]",
      "text/plain": [
       "<Figure size 432x288 with 1 Axes>"
      ]
     },
     "metadata": {
      "needs_background": "light"
     },
     "output_type": "display_data"
    }
   ],
   "source": [
    "az = data[data.color=='Black and White'].imdb_score.hist(bins=10, grid = False)\n",
    "az.set_xlabel(\"Scores\")\n",
    "az.set_ylabel(\"Count\")"
   ]
  },
  {
   "cell_type": "code",
   "execution_count": null,
   "metadata": {},
   "outputs": [],
   "source": []
  }
 ],
 "metadata": {
  "kernelspec": {
   "display_name": "Python 3",
   "language": "python",
   "name": "python3"
  },
  "language_info": {
   "codemirror_mode": {
    "name": "ipython",
    "version": 3
   },
   "file_extension": ".py",
   "mimetype": "text/x-python",
   "name": "python",
   "nbconvert_exporter": "python",
   "pygments_lexer": "ipython3",
   "version": "3.8.2"
  }
 },
 "nbformat": 4,
 "nbformat_minor": 5
}
